{
 "cells": [
  {
   "cell_type": "code",
   "execution_count": 2,
   "metadata": {},
   "outputs": [
    {
     "name": "stdout",
     "output_type": "stream",
     "text": [
      "HelloWorld\n"
     ]
    }
   ],
   "source": [
    "println(\"HelloWorld\")"
   ]
  },
  {
   "cell_type": "code",
   "execution_count": 3,
   "metadata": {},
   "outputs": [
    {
     "name": "stdout",
     "output_type": "stream",
     "text": [
      "\"HelloWorld\" = \"HelloWorld\"\n",
      "\"HelloWorld\" = \"HelloWorld\"\n"
     ]
    },
    {
     "data": {
      "text/plain": [
       "\"HelloWorld\""
      ]
     },
     "execution_count": 3,
     "metadata": {},
     "output_type": "execute_result"
    }
   ],
   "source": [
    "@show \"HelloWorld\"\n",
    "@show (\"HelloWorld\")"
   ]
  },
  {
   "cell_type": "code",
   "execution_count": 3,
   "metadata": {
    "scrolled": true
   },
   "outputs": [
    {
     "ename": "LoadError",
     "evalue": "\u001b[91merror in method definition: function Base.sum must be explicitly imported to be extended\u001b[39m",
     "output_type": "error",
     "traceback": [
      "\u001b[91merror in method definition: function Base.sum must be explicitly imported to be extended\u001b[39m",
      ""
     ]
    }
   ],
   "source": [
    "function sum(A)\n",
    "    s = 0.0 # s = zero(eleype(A))\n",
    "    for a in A\n",
    "        s += a\n",
    "    end\n",
    "    s #可以写return 但一般不在这写\n",
    "      #不返回写nothing\n",
    "end"
   ]
  },
  {
   "cell_type": "code",
   "execution_count": 1,
   "metadata": {},
   "outputs": [
    {
     "data": {
      "text/plain": [
       "496.54133467019346"
      ]
     },
     "execution_count": 1,
     "metadata": {},
     "output_type": "execute_result"
    }
   ],
   "source": [
    "A = rand(1000)\n",
    "sum(A)"
   ]
  },
  {
   "cell_type": "code",
   "execution_count": 2,
   "metadata": {},
   "outputs": [
    {
     "data": {
      "text/plain": [
       "is_even (generic function with 1 method)"
      ]
     },
     "execution_count": 2,
     "metadata": {},
     "output_type": "execute_result"
    }
   ],
   "source": [
    "is_even(x::Int) = x % 2 == 0 #::标志x是int类型"
   ]
  },
  {
   "cell_type": "code",
   "execution_count": 5,
   "metadata": {},
   "outputs": [
    {
     "data": {
      "text/plain": [
       "253.3561164428203"
      ]
     },
     "execution_count": 5,
     "metadata": {},
     "output_type": "execute_result"
    }
   ],
   "source": [
    "function sum_even(A)\n",
    "    s = 0.0\n",
    "    for i in eachindex(A)\n",
    "        if is_even(i)\n",
    "            s += A[i]\n",
    "        end\n",
    "    end\n",
    "    s\n",
    "end\n",
    "\n",
    "sum_even(A)"
   ]
  },
  {
   "cell_type": "code",
   "execution_count": 3,
   "metadata": {},
   "outputs": [
    {
     "data": {
      "text/plain": [
       "view_tree (generic function with 2 methods)"
      ]
     },
     "execution_count": 3,
     "metadata": {},
     "output_type": "execute_result"
    }
   ],
   "source": [
    "# using InteractiveUtils\n",
    "\n",
    "function view_tree(T, depth = 0)\n",
    "    println(\"    \"^depth,  T)\n",
    "    for each in subtypes(T)\n",
    "        view_tree(each, depth + 1)\n",
    "    end\n",
    "end"
   ]
  },
  {
   "cell_type": "code",
   "execution_count": 4,
   "metadata": {},
   "outputs": [
    {
     "name": "stdout",
     "output_type": "stream",
     "text": [
      "AbstractArray{T,2} where T\n",
      "    AbstractSparseArray{Tv,Ti,2} where Ti where Tv\n",
      "        Base.SparseArrays.CHOLMOD.Sparse\n",
      "        SparseMatrixCSC\n",
      "    Base.LinAlg.AbstractTriangular\n",
      "        Base.LinAlg.UnitLowerTriangular\n",
      "        Base.LinAlg.UnitUpperTriangular\n",
      "        LowerTriangular\n",
      "        UpperTriangular\n",
      "    Base.LinAlg.HessenbergQ\n",
      "    Base.LinAlg.LQPackedQ\n",
      "    Base.LinAlg.QRCompactWYQ\n",
      "    Base.LinAlg.QRPackedQ\n",
      "    Base.LinAlg.SVDOperator\n",
      "    Base.ReshapedArray{T,2,P,MI} where MI<:Tuple{Vararg{Base.MultiplicativeInverses.SignedMultiplicativeInverse{Int64},N} where N} where P<:AbstractArray where T\n",
      "    Base.SparseArrays.CHOLMOD.FactorComponent\n",
      "    Bidiagonal\n",
      "    Compat.CartesianIndices{2,R} where R<:Tuple{AbstractUnitRange{Int64},AbstractUnitRange{Int64}}\n",
      "    Compat.LinearIndices{2,R} where R<:Tuple{AbstractUnitRange{Int64},AbstractUnitRange{Int64}}\n",
      "    ConjArray{T,2,A} where A<:AbstractArray where T\n",
      "    DenseArray{T,2} where T\n",
      "        Array{T,2} where T\n",
      "        Base.DFT.FFTW.FakeArray{T,2} where T\n",
      "        Base.SparseArrays.CHOLMOD.Dense\n",
      "        BitArray{2}\n",
      "        Core.Inference.BitArray{2}\n",
      "        SharedArray{T,2} where T\n",
      "    Diagonal\n",
      "    Hermitian\n",
      "    PermutedDimsArray{T,2,perm,iperm,AA} where AA<:AbstractArray where iperm where perm where T\n",
      "    RowVector\n",
      "    SubArray{T,2,P,I,L} where L where I where P where T\n",
      "    SymTridiagonal\n",
      "    Symmetric\n",
      "    Tridiagonal\n"
     ]
    }
   ],
   "source": [
    "view_tree(AbstractMatrix)"
   ]
  },
  {
   "cell_type": "code",
   "execution_count": 2,
   "metadata": {},
   "outputs": [
    {
     "data": {
      "text/plain": [
       "MyStr"
      ]
     },
     "execution_count": 2,
     "metadata": {},
     "output_type": "execute_result"
    }
   ],
   "source": [
    "struct MyStr <: AbstractString\n",
    "    data::String\n",
    "end\n",
    "\n",
    "Base.show(io::IO, s::MyStr) = print(io, \"My String is :\", s.data)\n",
    "\n",
    "macro my_str(s)\n",
    "    MyStr(s)\n",
    "end\n",
    "\n",
    "typeof(my\"Hello\")"
   ]
  },
  {
   "cell_type": "code",
   "execution_count": null,
   "metadata": {},
   "outputs": [],
   "source": [
    "ex = :(a + b)\n",
    "dump(ex)"
   ]
  },
  {
   "cell_type": "code",
   "execution_count": null,
   "metadata": {},
   "outputs": [],
   "source": []
  }
 ],
 "metadata": {
  "kernelspec": {
   "display_name": "Julia 0.6.4",
   "language": "julia",
   "name": "julia-0.6"
  },
  "language_info": {
   "file_extension": ".jl",
   "mimetype": "application/julia",
   "name": "julia",
   "version": "0.6.4"
  }
 },
 "nbformat": 4,
 "nbformat_minor": 2
}
